{
 "cells": [
  {
   "attachments": {},
   "cell_type": "markdown",
   "metadata": {},
   "source": [
    "## Kemal Demirel: 191104091\n",
    "\n",
    "## Kadir Çağan Eren: "
   ]
  },
  {
   "cell_type": "code",
   "execution_count": null,
   "metadata": {},
   "outputs": [],
   "source": [
    "import glob\n",
    "import pathlib\n",
    "import cv2\n",
    "import numpy as np \n",
    "import pandas as pd \n",
    "import os\n",
    "import cv2\n",
    "import numpy as np\n",
    "from sklearn.svm import SVC\n",
    "from sklearn.model_selection import train_test_split\n",
    "from sklearn.metrics import accuracy_score\n",
    "from matplotlib import pyplot as plt\n",
    "\n",
    "print (cv2.__version__)\n"
   ]
  },
  {
   "attachments": {},
   "cell_type": "markdown",
   "metadata": {},
   "source": [
    "## Read all dataset with images"
   ]
  },
  {
   "cell_type": "code",
   "execution_count": 20,
   "metadata": {},
   "outputs": [],
   "source": [
    "\n",
    "def traverse_directory(path):\n",
    "    length = 0\n",
    "    entered = False\n",
    "    dataset = []\n",
    "    for dirpath, dirnames, filenames in os.walk(path):\n",
    "        if not entered:\n",
    "            length = len(dirnames)\n",
    "            entered = True    \n",
    "        for filename in filenames:\n",
    "            file_path = os.path.join(dirpath, filename)\n",
    "            if(file_path.endswith(\".jpg\")):\n",
    "                img = cv2.imread(file_path)\n",
    "                dataset.append(img)\n",
    "    labels = []\n",
    "    for i in range(0,length):\n",
    "        labels.append(i)\n",
    "    return dataset, labels\n"
   ]
  },
  {
   "cell_type": "code",
   "execution_count": 21,
   "metadata": {},
   "outputs": [],
   "source": [
    "images, labels = traverse_directory(os.getcwd()+\"/dataset/train\")"
   ]
  },
  {
   "attachments": {},
   "cell_type": "markdown",
   "metadata": {},
   "source": [
    "Number of images"
   ]
  },
  {
   "cell_type": "code",
   "execution_count": 22,
   "metadata": {},
   "outputs": [
    {
     "name": "stdout",
     "output_type": "stream",
     "text": [
      "2779\n"
     ]
    }
   ],
   "source": [
    "print(len(images))"
   ]
  },
  {
   "attachments": {},
   "cell_type": "markdown",
   "metadata": {},
   "source": [
    "Number of fruits and vegetables"
   ]
  },
  {
   "cell_type": "code",
   "execution_count": 23,
   "metadata": {},
   "outputs": [
    {
     "name": "stdout",
     "output_type": "stream",
     "text": [
      "36\n"
     ]
    }
   ],
   "source": [
    "print(len(labels))"
   ]
  },
  {
   "attachments": {},
   "cell_type": "markdown",
   "metadata": {},
   "source": [
    "## Define the feature extraction functions"
   ]
  },
  {
   "cell_type": "code",
   "execution_count": 24,
   "metadata": {},
   "outputs": [],
   "source": [
    "# Define the color histogram feature extractor function\n",
    "def color_histogram(image):\n",
    "    hist = cv2.calcHist([image], [0, 1, 2], None, [8, 8, 8], [0, 256, 0, 256, 0, 256])\n",
    "    hist = cv2.normalize(hist, hist).flatten()\n",
    "    return hist"
   ]
  },
  {
   "cell_type": "code",
   "execution_count": 31,
   "metadata": {},
   "outputs": [],
   "source": [
    "# Define the texture analysis feature extractor function\n",
    "def texture_analysis(image):\n",
    "    gray = cv2.cvtColor(image, cv2.COLOR_BGR2GRAY)\n",
    "    lbp = cv2.LBP_create()\n",
    "    lbp_img = lbp.compute(gray)\n",
    "    hist = cv2.calcHist([lbp_img], [0], None, [256], [0, 256])\n",
    "    hist = cv2.normalize(hist, hist).flatten()\n",
    "    return hist"
   ]
  },
  {
   "cell_type": "code",
   "execution_count": 32,
   "metadata": {},
   "outputs": [
    {
     "ename": "ValueError",
     "evalue": "setting an array element with a sequence.",
     "output_type": "error",
     "traceback": [
      "\u001b[0;31m---------------------------------------------------------------------------\u001b[0m",
      "\u001b[0;31mTypeError\u001b[0m                                 Traceback (most recent call last)",
      "\u001b[0;31mTypeError\u001b[0m: only size-1 arrays can be converted to Python scalars",
      "\nThe above exception was the direct cause of the following exception:\n",
      "\u001b[0;31mValueError\u001b[0m                                Traceback (most recent call last)",
      "\u001b[1;32m/Users/kemaldemirel/Desktop/Lectures/Bil 468/Project/Computer-Vision-Fruit-Vegetables-Detection/vision.ipynb Cell 14\u001b[0m in \u001b[0;36m<cell line: 2>\u001b[0;34m()\u001b[0m\n\u001b[1;32m      <a href='vscode-notebook-cell:/Users/kemaldemirel/Desktop/Lectures/Bil%20468/Project/Computer-Vision-Fruit-Vegetables-Detection/vision.ipynb#X33sZmlsZQ%3D%3D?line=1'>2</a>\u001b[0m \u001b[39mfor\u001b[39;00m image \u001b[39min\u001b[39;00m images:\n\u001b[1;32m      <a href='vscode-notebook-cell:/Users/kemaldemirel/Desktop/Lectures/Bil%20468/Project/Computer-Vision-Fruit-Vegetables-Detection/vision.ipynb#X33sZmlsZQ%3D%3D?line=2'>3</a>\u001b[0m     image \u001b[39m=\u001b[39m cv2\u001b[39m.\u001b[39mresize(image, (\u001b[39m100\u001b[39m, \u001b[39m100\u001b[39m))\n\u001b[0;32m----> <a href='vscode-notebook-cell:/Users/kemaldemirel/Desktop/Lectures/Bil%20468/Project/Computer-Vision-Fruit-Vegetables-Detection/vision.ipynb#X33sZmlsZQ%3D%3D?line=3'>4</a>\u001b[0m     feature \u001b[39m=\u001b[39m np\u001b[39m.\u001b[39mconcatenate((color_histogram(image), texture_analysis(image)))\n\u001b[1;32m      <a href='vscode-notebook-cell:/Users/kemaldemirel/Desktop/Lectures/Bil%20468/Project/Computer-Vision-Fruit-Vegetables-Detection/vision.ipynb#X33sZmlsZQ%3D%3D?line=4'>5</a>\u001b[0m     dataset\u001b[39m.\u001b[39mappend(feature)\n",
      "\u001b[1;32m/Users/kemaldemirel/Desktop/Lectures/Bil 468/Project/Computer-Vision-Fruit-Vegetables-Detection/vision.ipynb Cell 14\u001b[0m in \u001b[0;36mtexture_analysis\u001b[0;34m(image)\u001b[0m\n\u001b[1;32m      <a href='vscode-notebook-cell:/Users/kemaldemirel/Desktop/Lectures/Bil%20468/Project/Computer-Vision-Fruit-Vegetables-Detection/vision.ipynb#X33sZmlsZQ%3D%3D?line=1'>2</a>\u001b[0m \u001b[39mdef\u001b[39;00m \u001b[39mtexture_analysis\u001b[39m(image):\n\u001b[1;32m      <a href='vscode-notebook-cell:/Users/kemaldemirel/Desktop/Lectures/Bil%20468/Project/Computer-Vision-Fruit-Vegetables-Detection/vision.ipynb#X33sZmlsZQ%3D%3D?line=2'>3</a>\u001b[0m     gray \u001b[39m=\u001b[39m cv2\u001b[39m.\u001b[39mcvtColor(image, cv2\u001b[39m.\u001b[39mCOLOR_BGR2GRAY)\n\u001b[0;32m----> <a href='vscode-notebook-cell:/Users/kemaldemirel/Desktop/Lectures/Bil%20468/Project/Computer-Vision-Fruit-Vegetables-Detection/vision.ipynb#X33sZmlsZQ%3D%3D?line=3'>4</a>\u001b[0m     lbp \u001b[39m=\u001b[39m extract_lbp_features(image)\n\u001b[1;32m      <a href='vscode-notebook-cell:/Users/kemaldemirel/Desktop/Lectures/Bil%20468/Project/Computer-Vision-Fruit-Vegetables-Detection/vision.ipynb#X33sZmlsZQ%3D%3D?line=4'>5</a>\u001b[0m     lbp_img \u001b[39m=\u001b[39m lbp\u001b[39m.\u001b[39mcompute(gray)\n\u001b[1;32m      <a href='vscode-notebook-cell:/Users/kemaldemirel/Desktop/Lectures/Bil%20468/Project/Computer-Vision-Fruit-Vegetables-Detection/vision.ipynb#X33sZmlsZQ%3D%3D?line=5'>6</a>\u001b[0m     hist \u001b[39m=\u001b[39m cv2\u001b[39m.\u001b[39mcalcHist([lbp_img], [\u001b[39m0\u001b[39m], \u001b[39mNone\u001b[39;00m, [\u001b[39m256\u001b[39m], [\u001b[39m0\u001b[39m, \u001b[39m256\u001b[39m])\n",
      "\u001b[1;32m/Users/kemaldemirel/Desktop/Lectures/Bil 468/Project/Computer-Vision-Fruit-Vegetables-Detection/vision.ipynb Cell 14\u001b[0m in \u001b[0;36mextract_lbp_features\u001b[0;34m(image)\u001b[0m\n\u001b[1;32m     <a href='vscode-notebook-cell:/Users/kemaldemirel/Desktop/Lectures/Bil%20468/Project/Computer-Vision-Fruit-Vegetables-Detection/vision.ipynb#X33sZmlsZQ%3D%3D?line=23'>24</a>\u001b[0m                 \u001b[39melse\u001b[39;00m:\n\u001b[1;32m     <a href='vscode-notebook-cell:/Users/kemaldemirel/Desktop/Lectures/Bil%20468/Project/Computer-Vision-Fruit-Vegetables-Detection/vision.ipynb#X33sZmlsZQ%3D%3D?line=24'>25</a>\u001b[0m                     values\u001b[39m.\u001b[39mappend(\u001b[39m0\u001b[39m)\n\u001b[0;32m---> <a href='vscode-notebook-cell:/Users/kemaldemirel/Desktop/Lectures/Bil%20468/Project/Computer-Vision-Fruit-Vegetables-Detection/vision.ipynb#X33sZmlsZQ%3D%3D?line=25'>26</a>\u001b[0m         lbp[i, j] \u001b[39m=\u001b[39m \u001b[39msum\u001b[39m(values) \u001b[39m*\u001b[39m (\u001b[39m2\u001b[39m \u001b[39m*\u001b[39m\u001b[39m*\u001b[39m np\u001b[39m.\u001b[39marange(num_points))[::\u001b[39m-\u001b[39m\u001b[39m1\u001b[39m]\n\u001b[1;32m     <a href='vscode-notebook-cell:/Users/kemaldemirel/Desktop/Lectures/Bil%20468/Project/Computer-Vision-Fruit-Vegetables-Detection/vision.ipynb#X33sZmlsZQ%3D%3D?line=27'>28</a>\u001b[0m \u001b[39m# Compute a histogram of the LBP values and normalize the histogram\u001b[39;00m\n\u001b[1;32m     <a href='vscode-notebook-cell:/Users/kemaldemirel/Desktop/Lectures/Bil%20468/Project/Computer-Vision-Fruit-Vegetables-Detection/vision.ipynb#X33sZmlsZQ%3D%3D?line=28'>29</a>\u001b[0m hist, _ \u001b[39m=\u001b[39m np\u001b[39m.\u001b[39mhistogram(lbp\u001b[39m.\u001b[39mravel(), bins\u001b[39m=\u001b[39mnp\u001b[39m.\u001b[39marange(\u001b[39m0\u001b[39m, \u001b[39m2\u001b[39m \u001b[39m*\u001b[39m\u001b[39m*\u001b[39m num_points \u001b[39m+\u001b[39m \u001b[39m1\u001b[39m), \u001b[39mrange\u001b[39m\u001b[39m=\u001b[39m(\u001b[39m0\u001b[39m, \u001b[39m2\u001b[39m \u001b[39m*\u001b[39m\u001b[39m*\u001b[39m num_points))\n",
      "\u001b[0;31mValueError\u001b[0m: setting an array element with a sequence."
     ]
    }
   ],
   "source": [
    "dataset = []\n",
    "for image in images:\n",
    "    image = cv2.resize(image, (100, 100))\n",
    "    feature = np.concatenate((color_histogram(image), texture_analysis(image)))\n",
    "    dataset.append(feature)"
   ]
  },
  {
   "attachments": {},
   "cell_type": "markdown",
   "metadata": {},
   "source": [
    "## Define the feature extraction pipeline"
   ]
  },
  {
   "cell_type": "code",
   "execution_count": null,
   "metadata": {},
   "outputs": [],
   "source": [
    "\n",
    "def extract_features(img_path):\n",
    "    # Load the image\n",
    "    img = cv2.imread(img_path)\n",
    "\n",
    "    # Extract the features\n",
    "    color_hist = color_histogram(img)\n",
    "    texture_hist = texture_analysis(img)\n",
    "    edge_hist = edge_detection(img)\n",
    "\n",
    "    # Concatenate the features\n",
    "    features = np.concatenate((color_hist, texture_hist, edge_hist))\n",
    "\n",
    "    return features"
   ]
  },
  {
   "attachments": {},
   "cell_type": "markdown",
   "metadata": {},
   "source": [
    "### Extract the features from each fruit image"
   ]
  },
  {
   "cell_type": "code",
   "execution_count": null,
   "metadata": {},
   "outputs": [],
   "source": [
    "features = []\n",
    "i = 0\n",
    "for img_path in dataset:\n",
    "    feature = extract_features(img_path)\n",
    "    features.append(feature)\n",
    "    print(i)\n",
    "    i = i + 1"
   ]
  },
  {
   "attachments": {},
   "cell_type": "markdown",
   "metadata": {},
   "source": [
    "## Split the dataset into training and testing sets\n"
   ]
  },
  {
   "cell_type": "code",
   "execution_count": null,
   "metadata": {},
   "outputs": [],
   "source": [
    "X_train, X_test, y_train, y_test = train_test_split(features, labels, test_size=0.2, random_state=42)"
   ]
  },
  {
   "attachments": {},
   "cell_type": "markdown",
   "metadata": {},
   "source": [
    "## Train the classifier"
   ]
  },
  {
   "cell_type": "code",
   "execution_count": null,
   "metadata": {},
   "outputs": [],
   "source": [
    "clf = SVC(kernel='linear')\n",
    "clf.fit(X_train, y_train)"
   ]
  },
  {
   "attachments": {},
   "cell_type": "markdown",
   "metadata": {},
   "source": [
    "## Evaluate the classifier"
   ]
  },
  {
   "cell_type": "code",
   "execution_count": null,
   "metadata": {},
   "outputs": [],
   "source": [
    "y_pred = clf.predict(X_test)\n",
    "accuracy = accuracy_score(y_test, y_pred)\n",
    "print(f'Accuracy: {accuracy}')"
   ]
  }
 ],
 "metadata": {
  "kernelspec": {
   "display_name": "base",
   "language": "python",
   "name": "python3"
  },
  "language_info": {
   "codemirror_mode": {
    "name": "ipython",
    "version": 3
   },
   "file_extension": ".py",
   "mimetype": "text/x-python",
   "name": "python",
   "nbconvert_exporter": "python",
   "pygments_lexer": "ipython3",
   "version": "3.9.12"
  },
  "orig_nbformat": 4,
  "vscode": {
   "interpreter": {
    "hash": "d1947ca4dac24bb13e7a62b4061f93f65a5b53851e3981a53736f1e8c5d59e7f"
   }
  }
 },
 "nbformat": 4,
 "nbformat_minor": 2
}
