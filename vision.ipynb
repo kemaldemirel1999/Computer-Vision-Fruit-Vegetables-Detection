{
 "cells": [
  {
   "cell_type": "code",
   "execution_count": 8,
   "metadata": {},
   "outputs": [],
   "source": [
    "from sklearn.ensemble import RandomForestClassifier\n",
    "from sklearn.metrics import accuracy_score, precision_score, recall_score, f1_score\n",
    "import os\n",
    "import cv2\n",
    "import numpy as np\n",
    "from sklearn.model_selection import train_test_split\n",
    "from sklearn.svm import SVC\n",
    "from sklearn.metrics import classification_report\n",
    "from skimage.feature import hog\n",
    "from sklearn.neighbors import KNeighborsClassifier"
   ]
  },
  {
   "cell_type": "code",
   "execution_count": null,
   "metadata": {},
   "outputs": [],
   "source": [
    "# Define the path to the fruit images dataset\n",
    "dataset_path = \"dataset2\"\n",
    "# Define the list of fruit classes\n",
    "fruit_names = os.listdir(dataset_path)\n",
    "# MacOS cihazlardaki .DS_Store dosyası ignore edilir.\n",
    "fruit_classes = [class_name for class_name in fruit_names if class_name != \".DS_Store\"]"
   ]
  },
  {
   "cell_type": "code",
   "execution_count": 3,
   "metadata": {},
   "outputs": [
    {
     "name": "stdout",
     "output_type": "stream",
     "text": [
      "Apple\n",
      "Pear\n",
      "Pomegranate\n",
      "Kiwi\n",
      "Plum\n",
      "Carambola\n",
      "muskmelon\n",
      "Banana\n",
      "Tomato\n",
      "Persimmon\n",
      "Orange\n",
      "Peach\n"
     ]
    },
    {
     "name": "stderr",
     "output_type": "stream",
     "text": [
      "/var/folders/f_/gyqrcdtx623ff04lttt2nxm40000gn/T/ipykernel_24869/394444661.py:41: FutureWarning: `multichannel` is a deprecated argument name for `hog`. It will be removed in version 1.0. Please use `channel_axis` instead.\n",
      "  hog_feature = hog(image, orientations=8, pixels_per_cell=(8, 8), cells_per_block=(2, 2), feature_vector=True, multichannel=True, channel_axis=-1)\n",
      "/var/folders/f_/gyqrcdtx623ff04lttt2nxm40000gn/T/ipykernel_24869/394444661.py:47: FutureWarning: `multichannel` is a deprecated argument name for `hog`. It will be removed in version 1.0. Please use `channel_axis` instead.\n",
      "  hog_feature = hog(image, orientations=8, pixels_per_cell=(8, 8), cells_per_block=(2, 2), feature_vector=True, multichannel=True, channel_axis=-1)\n"
     ]
    },
    {
     "name": "stdout",
     "output_type": "stream",
     "text": [
      "              precision    recall  f1-score   support\n",
      "\n",
      "       Apple       0.52      0.79      0.63      1023\n",
      "        Pear       0.79      0.72      0.75       622\n",
      " Pomegranate       0.85      0.76      0.80       435\n",
      "        Kiwi       0.90      0.88      0.89       824\n",
      "        Plum       0.98      1.00      0.99       422\n",
      "   Carambola       0.79      0.76      0.78       406\n",
      "   muskmelon       0.86      0.71      0.78       442\n",
      "      Banana       0.76      0.69      0.73       565\n",
      "      Tomato       0.78      0.68      0.73       449\n",
      "   Persimmon       0.86      0.77      0.82       433\n",
      "      Orange       0.79      0.68      0.73       593\n",
      "       Peach       0.92      0.78      0.84       535\n",
      "\n",
      "    accuracy                           0.77      6749\n",
      "   macro avg       0.82      0.77      0.79      6749\n",
      "weighted avg       0.80      0.77      0.78      6749\n",
      "\n"
     ]
    }
   ],
   "source": [
    "# Load the fruit images and labels\n",
    "images = []\n",
    "labels = []\n",
    "for fruit_class in fruit_classes:\n",
    "    fruit_class_path = os.path.join(dataset_path, fruit_class)\n",
    "    print(fruit_class)\n",
    "    for image_file in os.listdir(fruit_class_path):\n",
    "        image_path = os.path.join(fruit_class_path, image_file)\n",
    "        image = cv2.imread(image_path)\n",
    "        image = cv2.cvtColor(image, cv2.COLOR_BGR2RGB)\n",
    "        image = cv2.resize(image, (64, 64))\n",
    "        images.append(image)\n",
    "        labels.append(fruit_classes.index(fruit_class))\n",
    "\n",
    "# Convert the image and label lists to NumPy arrays\n",
    "images = np.array(images)\n",
    "labels = np.array(labels)\n",
    "\n",
    "\n"
   ]
  },
  {
   "cell_type": "code",
   "execution_count": null,
   "metadata": {},
   "outputs": [],
   "source": [
    "# Split the dataset into training and testing sets\n",
    "train_images, test_images, train_labels, test_labels = train_test_split(images, labels, test_size=0.2)"
   ]
  },
  {
   "cell_type": "code",
   "execution_count": null,
   "metadata": {},
   "outputs": [],
   "source": [
    "# Extract HOG features from the training set\n",
    "\n",
    "hog_features = []\n",
    "for image in train_images:\n",
    "    hog_feature = hog(image, orientations=8, pixels_per_cell=(8, 8), cells_per_block=(2, 2), feature_vector=True, multichannel=True, channel_axis=-1)\n",
    "    hog_features.append(hog_feature)\n",
    "train_features = np.array(hog_features)\n",
    "\n",
    "hog_features = []\n",
    "for image in test_images:\n",
    "    hog_feature = hog(image, orientations=8, pixels_per_cell=(8, 8), cells_per_block=(2, 2), feature_vector=True, multichannel=True, channel_axis=-1)\n",
    "    hog_features.append(hog_feature)\n",
    "test_features = np.array(hog_features)"
   ]
  },
  {
   "cell_type": "code",
   "execution_count": null,
   "metadata": {},
   "outputs": [],
   "source": [
    "# Train the SVM model\n",
    "svm_model = SVC(kernel='linear')\n",
    "svm_model.fit(train_features, train_labels)\n",
    "\n",
    "# Make predictions on the test set\n",
    "predictions = svm_model.predict(test_features)\n",
    "\n",
    "# Evaluate the model performance"
   ]
  },
  {
   "cell_type": "code",
   "execution_count": 6,
   "metadata": {},
   "outputs": [
    {
     "name": "stdout",
     "output_type": "stream",
     "text": [
      "Accuracy: 0.7716698770188176\n",
      "Precision: 0.817859917225216\n",
      "Recall: 0.7689472023320537\n",
      "F1 score: 0.7886691666779765\n"
     ]
    }
   ],
   "source": [
    "# Başarım metrikleri hesaplanır.\n",
    "accuracy = accuracy_score(test_labels, predictions)\n",
    "precision = precision_score(test_labels, predictions, average='macro')\n",
    "recall = recall_score(test_labels, predictions, average='macro')\n",
    "f1 = f1_score(test_labels, predictions, average='macro')\n",
    "print(\"Accuracy:\", accuracy)\n",
    "print(\"Precision:\", precision)\n",
    "print(\"Recall:\", recall)\n",
    "print(\"F1 score:\", f1)"
   ]
  },
  {
   "cell_type": "code",
   "execution_count": null,
   "metadata": {},
   "outputs": [],
   "source": [
    "print(classification_report(test_labels, predictions, target_names=fruit_classes))"
   ]
  },
  {
   "cell_type": "code",
   "execution_count": 4,
   "metadata": {},
   "outputs": [
    {
     "name": "stdout",
     "output_type": "stream",
     "text": [
      "Accuracy: 0.7467773003407913\n",
      "Precision: 0.9077398026568785\n",
      "Recall: 0.7259406372885294\n",
      "F1 score: 0.78337210825803\n"
     ]
    }
   ],
   "source": [
    "clf = RandomForestClassifier(n_estimators=100, max_depth=10, random_state=42)\n",
    "clf.fit(train_features, train_labels)\n",
    "y_pred = clf.predict(test_features)\n",
    "# Başarım metrikleri hesaplanır.\n",
    "accuracy = accuracy_score(test_labels, y_pred)\n",
    "precision = precision_score(test_labels, y_pred, average='macro')\n",
    "recall = recall_score(test_labels, y_pred, average='macro')\n",
    "f1 = f1_score(test_labels, y_pred, average='macro')\n",
    "print(\"Accuracy:\", accuracy)\n",
    "print(\"Precision:\", precision)\n",
    "print(\"Recall:\", recall)\n",
    "print(\"F1 score:\", f1)"
   ]
  },
  {
   "cell_type": "code",
   "execution_count": 9,
   "metadata": {},
   "outputs": [
    {
     "name": "stdout",
     "output_type": "stream",
     "text": [
      "\n",
      "K-Nearest Neighbors Classifier:\n",
      "Accuracy: 0.7971551340939398\n",
      "Precision: 0.8489477854042331\n",
      "Recall: 0.7943092607167063\n",
      "F1 score: 0.8143862498223609\n"
     ]
    }
   ],
   "source": [
    "# K-Nearest Neighbors Classifier\n",
    "knn = KNeighborsClassifier(n_neighbors=5)\n",
    "knn.fit(train_features, train_labels)\n",
    "\n",
    "y_pred_knn = knn.predict(test_features)\n",
    "\n",
    "\n",
    "accuracy_knn = accuracy_score(test_labels, y_pred_knn)\n",
    "precision_knn = precision_score(test_labels, y_pred_knn, average='macro')\n",
    "recall_knn = recall_score(test_labels, y_pred_knn, average='macro')\n",
    "f1_knn = f1_score(test_labels, y_pred_knn, average='macro')\n",
    "print(\"\\nK-Nearest Neighbors Classifier:\")\n",
    "print(\"Accuracy:\", accuracy_knn)\n",
    "print(\"Precision:\", precision_knn)\n",
    "print(\"Recall:\", recall_knn)\n",
    "print(\"F1 score:\", f1_knn)"
   ]
  }
 ],
 "metadata": {
  "kernelspec": {
   "display_name": "base",
   "language": "python",
   "name": "python3"
  },
  "language_info": {
   "codemirror_mode": {
    "name": "ipython",
    "version": 3
   },
   "file_extension": ".py",
   "mimetype": "text/x-python",
   "name": "python",
   "nbconvert_exporter": "python",
   "pygments_lexer": "ipython3",
   "version": "3.9.12"
  },
  "orig_nbformat": 4
 },
 "nbformat": 4,
 "nbformat_minor": 2
}
