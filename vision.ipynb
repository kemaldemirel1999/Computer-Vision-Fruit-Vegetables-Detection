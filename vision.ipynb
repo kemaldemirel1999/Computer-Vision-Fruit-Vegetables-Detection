{
 "cells": [
  {
   "attachments": {},
   "cell_type": "markdown",
   "metadata": {},
   "source": [
    "## Kemal Demirel: 191104091\n",
    "\n",
    "## Kadir Çağan Eren: "
   ]
  },
  {
   "cell_type": "code",
   "execution_count": null,
   "metadata": {},
   "outputs": [],
   "source": [
    "import cv2\n",
    "import numpy as np \n",
    "import os\n",
    "import cv2\n",
    "import numpy as np\n",
    "from sklearn.svm import SVC\n",
    "from sklearn.metrics import accuracy_score\n",
    "from matplotlib import pyplot as plt\n",
    "from sklearn.svm import SVC\n",
    "from sklearn.metrics import accuracy_score, precision_score, recall_score, f1_score\n"
   ]
  },
  {
   "cell_type": "code",
   "execution_count": null,
   "metadata": {},
   "outputs": [],
   "source": [
    "def traverse_directory(path, isItTrain):\n",
    "    dataset = []\n",
    "    labels = []\n",
    "    for dirpath, dirnames, filenames in os.walk(path):\n",
    "        for filename in filenames:\n",
    "            file_path = os.path.join(dirpath, filename)\n",
    "            if(file_path.endswith(\".jpg\")):\n",
    "                img = cv2.imread(file_path)\n",
    "                dataset.append(img)\n",
    "                tmp_path = dirpath\n",
    "                if(isItTrain):\n",
    "                    label = tmp_path[tmp_path.find(\"train/\")+len(\"train/\"):]    \n",
    "                else:\n",
    "                    label = tmp_path[tmp_path.find(\"test/\")+len(\"test/\"):]    \n",
    "                labels.append(label)\n",
    "    return np.array(dataset), np.array(labels)"
   ]
  },
  {
   "cell_type": "code",
   "execution_count": null,
   "metadata": {},
   "outputs": [],
   "source": [
    "X_train, y_train = traverse_directory(os.getcwd()+\"/dataset/train\", True)\n"
   ]
  },
  {
   "cell_type": "code",
   "execution_count": null,
   "metadata": {},
   "outputs": [],
   "source": [
    "X_test, y_test = traverse_directory(os.getcwd()+\"/dataset/test\", False)\n"
   ]
  },
  {
   "cell_type": "code",
   "execution_count": null,
   "metadata": {},
   "outputs": [],
   "source": [
    "def preprocess_image(image):\n",
    "    image = cv2.cvtColor(image, cv2.COLOR_BGR2RGB)\n",
    "    image = cv2.resize(image, (64, 64))\n",
    "    return image"
   ]
  },
  {
   "cell_type": "code",
   "execution_count": null,
   "metadata": {},
   "outputs": [],
   "source": [
    "for i in range(len(X_train)):\n",
    "    X_train[i] = preprocess_image(X_train[i])"
   ]
  },
  {
   "cell_type": "code",
   "execution_count": null,
   "metadata": {},
   "outputs": [],
   "source": [
    "for i in range(len(X_test)):\n",
    "    X_test[i] = preprocess_image(X_test[i])\n"
   ]
  },
  {
   "cell_type": "code",
   "execution_count": 33,
   "metadata": {},
   "outputs": [],
   "source": [
    "def feature_extraction_with_sift(image):\n",
    "    gray = cv2.cvtColor(image, cv2.COLOR_BGR2GRAY)\n",
    "    sift = cv2.SIFT_create()\n",
    "    keypoints, descriptors = sift.detectAndCompute(gray, None)\n",
    "    max_descriptors = 50  # or any other value that is large enough to accomodate all the descriptors\n",
    "    if descriptors is not None and descriptors.shape[0] > max_descriptors:\n",
    "        descriptors = descriptors[:max_descriptors, :]\n",
    "    elif descriptors is not None and descriptors.shape[0] < max_descriptors:\n",
    "        descriptors = np.pad(descriptors, ((0, max_descriptors - descriptors.shape[0]), (0, 0)), 'constant')\n",
    "    if descriptors is None:\n",
    "        descriptors = np.zeros((max_descriptors, 128))\n",
    "    return descriptors.flatten()"
   ]
  },
  {
   "cell_type": "code",
   "execution_count": 35,
   "metadata": {},
   "outputs": [],
   "source": [
    "X_train_features = []\n",
    "for image in X_train:\n",
    "    features = feature_extraction_with_sift(image)\n",
    "    if features is not None:\n",
    "        X_train_features.append(features)\n",
    "X_train_features = np.array(X_train_features, dtype='object')"
   ]
  },
  {
   "cell_type": "code",
   "execution_count": 36,
   "metadata": {},
   "outputs": [],
   "source": [
    "X_test_features = []\n",
    "for image in X_test:\n",
    "    features = feature_extraction_with_sift(image)\n",
    "    if features is not None:\n",
    "        X_test_features.append(features)\n",
    "X_test_features = np.array(X_test_features, dtype='object')"
   ]
  },
  {
   "cell_type": "code",
   "execution_count": null,
   "metadata": {},
   "outputs": [],
   "source": [
    "def train_classifier(X_train, y_train):\n",
    "    svm = SVC(kernel='linear')\n",
    "    svm.fit(X_train, y_train)\n",
    "    return svm"
   ]
  },
  {
   "cell_type": "code",
   "execution_count": null,
   "metadata": {},
   "outputs": [],
   "source": [
    "def evaluate_classifier(classifier, X_test, y_test):\n",
    "    y_pred = classifier.predict(X_test)\n",
    "    accuracy = accuracy_score(y_test, y_pred)\n",
    "    precision = precision_score(y_test, y_pred, average='macro')\n",
    "    recall = recall_score(y_test, y_pred, average='macro')\n",
    "    f1 = f1_score(y_test, y_pred, average='macro')\n",
    "    return accuracy, precision, recall, f1"
   ]
  },
  {
   "cell_type": "code",
   "execution_count": 42,
   "metadata": {},
   "outputs": [],
   "source": [
    "def predict(classifier, image):\n",
    "    feature = feature_extraction_with_sift(image)\n",
    "    prediction = classifier.predict([feature])\n",
    "    return prediction[0]"
   ]
  },
  {
   "cell_type": "code",
   "execution_count": 37,
   "metadata": {},
   "outputs": [],
   "source": [
    "classifier = train_classifier(X_train_features, y_train)"
   ]
  },
  {
   "cell_type": "code",
   "execution_count": 38,
   "metadata": {},
   "outputs": [
    {
     "name": "stdout",
     "output_type": "stream",
     "text": [
      "0.9724407536907536\n"
     ]
    }
   ],
   "source": [
    "accuracy, precision, recall, f1 = evaluate_classifier(classifier, X_test_features, y_test)\n"
   ]
  },
  {
   "cell_type": "code",
   "execution_count": 40,
   "metadata": {},
   "outputs": [
    {
     "name": "stdout",
     "output_type": "stream",
     "text": [
      "0.9670658682634731\n"
     ]
    }
   ],
   "source": [
    "print(accuracy)"
   ]
  },
  {
   "cell_type": "code",
   "execution_count": 44,
   "metadata": {},
   "outputs": [
    {
     "name": "stdout",
     "output_type": "stream",
     "text": [
      "bell pepper\n"
     ]
    }
   ],
   "source": [
    "\n",
    "new_image = cv2.imread(\"/Users/kemaldemirel/Desktop/Lectures/Bil 468/Project/Computer-Vision-Fruit-Vegetables-Detection/dataset/test/bell pepper/Image_2.jpg\")\n",
    "new_image = cv2.cvtColor(new_image, cv2.COLOR_BGR2RGB)\n",
    "new_image = cv2.resize(new_image, (64, 64))\n",
    "prediction = predict(classifier, new_image)\n",
    "print(prediction)"
   ]
  }
 ],
 "metadata": {
  "kernelspec": {
   "display_name": "base",
   "language": "python",
   "name": "python3"
  },
  "language_info": {
   "codemirror_mode": {
    "name": "ipython",
    "version": 3
   },
   "file_extension": ".py",
   "mimetype": "text/x-python",
   "name": "python",
   "nbconvert_exporter": "python",
   "pygments_lexer": "ipython3",
   "version": "3.9.12"
  },
  "orig_nbformat": 4,
  "vscode": {
   "interpreter": {
    "hash": "d1947ca4dac24bb13e7a62b4061f93f65a5b53851e3981a53736f1e8c5d59e7f"
   }
  }
 },
 "nbformat": 4,
 "nbformat_minor": 2
}
