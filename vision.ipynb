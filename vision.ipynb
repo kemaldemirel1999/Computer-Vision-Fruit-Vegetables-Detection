{
 "cells": [
  {
   "attachments": {},
   "cell_type": "markdown",
   "metadata": {},
   "source": [
    "Gereklü kütüphaneler ve modüller içe aktarılır."
   ]
  },
  {
   "cell_type": "code",
   "execution_count": 1,
   "metadata": {},
   "outputs": [],
   "source": [
    "from sklearn.ensemble import RandomForestClassifier\n",
    "from sklearn.metrics import accuracy_score, precision_score, recall_score, f1_score\n",
    "import os\n",
    "import cv2\n",
    "import numpy as np\n",
    "from sklearn.model_selection import train_test_split\n",
    "from sklearn.svm import SVC\n",
    "from sklearn.metrics import classification_report\n",
    "from skimage.feature import hog\n",
    "from sklearn.neighbors import KNeighborsClassifier\n",
    "import matplotlib.pyplot as plt"
   ]
  },
  {
   "attachments": {},
   "cell_type": "markdown",
   "metadata": {},
   "source": [
    "Veri seti yolu belirlenir."
   ]
  },
  {
   "cell_type": "code",
   "execution_count": 2,
   "metadata": {},
   "outputs": [],
   "source": [
    "dataset_path = os.getcwd()+ \"/dataset2/\""
   ]
  },
  {
   "attachments": {},
   "cell_type": "markdown",
   "metadata": {},
   "source": [
    "Veri kümesindeki meyve ve sebze sınıflarının bir listesi oluşturulur."
   ]
  },
  {
   "cell_type": "code",
   "execution_count": null,
   "metadata": {},
   "outputs": [],
   "source": [
    "# tüm meyve ve sebze resimlerinin bulunduğu dosya isimleri\n",
    "fruit_and_veg_names = os.listdir(dataset_path)"
   ]
  },
  {
   "attachments": {},
   "cell_type": "markdown",
   "metadata": {},
   "source": [
    "MacOS'ta bulunan .DS_Store dosyası yoksayılır. Ardından veri seti resimlerini ve etiketlerini yüklüyoruz."
   ]
  },
  {
   "cell_type": "code",
   "execution_count": null,
   "metadata": {},
   "outputs": [],
   "source": [
    "# MacOS cihazlardaki .DS_Store silinir.\n",
    "fruit_and_veg_classes = [class_name for class_name in fruit_and_veg_names if class_name != \".DS_Store\"] # .DS_Store silindi."
   ]
  },
  {
   "attachments": {},
   "cell_type": "markdown",
   "metadata": {},
   "source": [
    "Bu kod, bir meyve ve sebze veri setinin yüklenmesini ve görüntülerin etiketlerinin(label) oluşturulmasını sağlar. İlk olarak, boş bir \"images\" ve \"labels\" listesi oluşturulur. Ardından, \"fruit_and_veg_classes\" içerisindeki dosya isimleriyle bir döngü başlatılır ve ilgili dosya uzantısındaki tüm görüntüler yüklenir. Son olarak, okunan görüntü, \"images\" listesine eklenir ve meyve sınıfının indeksi, \"labels\" listesine eklenir. Bu şekilde, her bir görüntü için bir etiket oluşturulur ve \"images\" listesi tüm görüntülerle birlikte \"labels\" listesi de her görüntü için oluşturulan etiketlerle birlikte doldurulur."
   ]
  },
  {
   "cell_type": "code",
   "execution_count": 3,
   "metadata": {},
   "outputs": [
    {
     "name": "stdout",
     "output_type": "stream",
     "text": [
      "Apple\n",
      "Pear\n",
      "Pomegranate\n",
      "Kiwi\n",
      "Plum\n",
      "Carambola\n",
      "muskmelon\n",
      "Banana\n",
      "Tomato\n",
      "Persimmon\n",
      "Orange\n",
      "Peach\n"
     ]
    }
   ],
   "source": [
    "images = [] # Tüm resimleri içerir\n",
    "labels = [] # Resmin etiketini içerir.\n",
    "for fruit_class in fruit_and_veg_classes:\n",
    "    fruit_class_path = os.path.join(dataset_path, fruit_class)\n",
    "    print(fruit_class)\n",
    "    for image_file in os.listdir(fruit_class_path):\n",
    "        image_path = os.path.join(fruit_class_path, image_file)\n",
    "        image = cv2.imread(image_path) # ilgili resim okunur\n",
    "\n",
    "        images.append(image) # resim kaydedilir.\n",
    "        labels.append(fruit_and_veg_classes.index(fruit_class)) # resim etiketi kaydedilir.\n",
    "\n"
   ]
  },
  {
   "attachments": {},
   "cell_type": "markdown",
   "metadata": {},
   "source": [
    "Bu kod girdi olarak aldığı görüntüler üzerinde görüntü işleme yapar. Girdi olarak verilen görüntüler her biri sırasıyla BGR renk kanallarına sahip olduğu için ilk olarak renk kanallarını RGB'ye dönüştürmek için cv2.cvtColor kullanılır.. Daha sonra görüntüleri 64x64 boyutuna 'resize' edilir. Son olarak işlenmiş görüntüler final_images listesine eklenir. Döngü bu şekilde devam eder ve tüm meyve ve sebze resimlerine bu işlemleri uygular."
   ]
  },
  {
   "cell_type": "code",
   "execution_count": 4,
   "metadata": {},
   "outputs": [],
   "source": [
    "def preprocess(images):\n",
    "    final_images = []\n",
    "    for image in images:\n",
    "        image = cv2.cvtColor(image, cv2.COLOR_BGR2RGB)# RGB olacak şekilde resim çevrilir.\n",
    "        image = cv2.resize(image, (64, 64)) # resim (64,64) boyutuna resize edilir.\n",
    "        final_images.append(image)\n",
    "    return final_images"
   ]
  },
  {
   "cell_type": "code",
   "execution_count": 5,
   "metadata": {},
   "outputs": [],
   "source": [
    "images = preprocess(images)"
   ]
  },
  {
   "cell_type": "code",
   "execution_count": 6,
   "metadata": {},
   "outputs": [],
   "source": [
    "images = np.array(images)\n",
    "labels = np.array(labels)"
   ]
  },
  {
   "attachments": {},
   "cell_type": "markdown",
   "metadata": {},
   "source": [
    "Veri seti eğitim ve test olacak şekilde veri kümelerine ayrılır."
   ]
  },
  {
   "cell_type": "code",
   "execution_count": 7,
   "metadata": {},
   "outputs": [],
   "source": [
    "train_images, test_images, train_labels, test_labels = train_test_split(images, labels, test_size=0.2)"
   ]
  },
  {
   "attachments": {},
   "cell_type": "markdown",
   "metadata": {},
   "source": [
    "Bu kod parçası, HOG (Histogram of Oriented Gradients) özelliklerini eğitim ve test görüntülerinden çıkarır. HOG, bir görüntünün kenarlarının ve köşelerinin yönlerini hesaplayarak, görüntünün lokal gradyanını temsil eden bir özellik vektörü oluşturur."
   ]
  },
  {
   "attachments": {},
   "cell_type": "markdown",
   "metadata": {},
   "source": [
    "Kod bloğu, eğitim görüntülerindeki her bir görüntü için HOG özelliklerini çıkarır. HOG özelliklerinin çıkarılması, \"hog\" fonksiyonu kullanılarak yapılır. \"hog\" fonksiyonu, \"orientations\" argümanı ile belirtilen sayıda yöne sahip bir histogram oluşturur. \"pixels_per_cell\" argümanı, her hücre için kaç piksel kullanılacağını belirtir. \"cells_per_block\" argümanı, hücrelerin bloklara nasıl bölüneceğini belirler. \"feature_vector\" argümanı, özellik vektörünün düzleştirilmesi gerekip gerekmediğini belirler. \"multichannel\" argümanı, birden fazla kanalın (renk kanalları gibi) kullanılıp kullanılmayacağını belirler. \"channel_axis\" argümanı, hangi eksende kanalların bulunduğunu belirtir."
   ]
  },
  {
   "cell_type": "code",
   "execution_count": 8,
   "metadata": {},
   "outputs": [
    {
     "name": "stderr",
     "output_type": "stream",
     "text": [
      "/var/folders/f_/gyqrcdtx623ff04lttt2nxm40000gn/T/ipykernel_13258/1815871730.py:6: FutureWarning: `multichannel` is a deprecated argument name for `hog`. It will be removed in version 1.0. Please use `channel_axis` instead.\n",
      "  hog_feature = hog(image, orientations=8, pixels_per_cell=(8, 8), cells_per_block=(2, 2), feature_vector=True, multichannel=True, channel_axis=-1)\n",
      "/var/folders/f_/gyqrcdtx623ff04lttt2nxm40000gn/T/ipykernel_13258/1815871730.py:13: FutureWarning: `multichannel` is a deprecated argument name for `hog`. It will be removed in version 1.0. Please use `channel_axis` instead.\n",
      "  hog_feature = hog(image, orientations=8, pixels_per_cell=(8, 8), cells_per_block=(2, 2), feature_vector=True, multichannel=True, channel_axis=-1)\n"
     ]
    }
   ],
   "source": [
    "hog_features = []\n",
    "i = 0\n",
    "for image in train_images:\n",
    "    hog_feature = hog(image, orientations=8, pixels_per_cell=(8, 8), cells_per_block=(2, 2), feature_vector=True, multichannel=True, channel_axis=-1)\n",
    "    hog_features.append(hog_feature)\n",
    "    i = i + 1\n",
    "train_features = np.array(hog_features) # Eğitim için gerekli özellikler çıkarılır\n",
    "i = 0\n",
    "hog_features = []\n",
    "for image in test_images:\n",
    "    hog_feature = hog(image, orientations=8, pixels_per_cell=(8, 8), cells_per_block=(2, 2), feature_vector=True, multichannel=True, channel_axis=-1)\n",
    "    hog_features.append(hog_feature)\n",
    "    i = i + 1\n",
    "test_features = np.array(hog_features) # Test için gerekli özellikler çıkarılır\n"
   ]
  },
  {
   "attachments": {},
   "cell_type": "markdown",
   "metadata": {},
   "source": [
    "SIFT (Scale-Invariant Feature Transform) algoritması, görüntü tanıma ve eşleştirme için kullanılan bir özellik çıkarım yöntemidir. Bu yöntem, bir görüntüdeki farklı özellikleri (keypoint) bulmak ve bu özelliklerin bulanıklaşma ölçeklerini dikkate alarak tanımlayıcı vektörleri (descriptor) oluşturmak için kullanılır. Bu yöntem, görüntülerin ölçeklendirilmesine ve döndürülmesine duyarsızdır ve birbirleriyle karşılaştırılabilirliği sağlar."
   ]
  },
  {
   "cell_type": "code",
   "execution_count": null,
   "metadata": {},
   "outputs": [],
   "source": [
    "sift = cv2.xfeatures2d.SIFT_create()"
   ]
  },
  {
   "attachments": {},
   "cell_type": "markdown",
   "metadata": {},
   "source": [
    "Bu kod parçası, görüntülerden SIFT (Scale-Invariant Feature Transform) özniteliklerini çıkarır. SIFT, görüntülerdeki özellikleri algılamak ve eşleştirmek için kullanılan bir özellik tanımlama algoritmasıdır. İlk olarak, train_images listesindeki her bir görüntü, gri ölçeklendirme yapılarak gri tonlamalı hale getirilir. Daha sonra, SIFT algoritması bu gri ölçeklendirilmiş görüntüler üzerinde uygulanır. SIFT, görüntülerin belli bir boyut skalasına göre ölçeklendirilmiş noktalarını (keypoints) belirler ve her bir nokta için bir öznitelik vektörü (descriptor) hesaplar. "
   ]
  },
  {
   "attachments": {},
   "cell_type": "markdown",
   "metadata": {},
   "source": [
    "Bu öznitelik vektörleri train_features_sift listesine eklerken, train_labels_sift liste de eğitim verisi için görüntülerin sınıf etiketlerini tutar. Bu işlem sonucunda, train_features_sift adlı liste, her bir görüntü için çıkarılmış SIFT özniteliklerini içeren birer numpy dizisi olarak oluşturulur."
   ]
  },
  {
   "cell_type": "code",
   "execution_count": null,
   "metadata": {},
   "outputs": [],
   "source": [
    "train_features_sift = []\n",
    "train_labels_sift = []  # etiketleri takip etmek için yeni bir liste\n",
    "for i, image in enumerate(train_images):\n",
    "    # Gri ölçeklendirme uygulanıyor çünkü sift renk değerlerine duyarsızdır\n",
    "    gray = cv2.cvtColor(image, cv2.COLOR_RGB2GRAY)\n",
    "    # Keypoint'ler ve descriptor'lar çıkarılıyor\n",
    "    kp, des = sift.detectAndCompute(gray, None)\n",
    "    # Eğer descriptor'lar varsa, train_features_sift listesine eklenirken, train_labels_sift listesine etiketleri ekleniyor\n",
    "    if des is not None:\n",
    "        train_features_sift.append(des)\n",
    "        train_labels_sift += [train_labels[i]] * des.shape[0]  \n",
    "train_features_sift = np.concatenate(train_features_sift, axis=0)\n",
    "train_labels_sift = np.array(train_labels_sift)"
   ]
  },
  {
   "attachments": {},
   "cell_type": "markdown",
   "metadata": {},
   "source": [
    "Bu kontrol önemlidir çünkü eğitim özelliklerinin her biri bir etiketle eşleştirilmelidir ve bu etiketlerin doğru sayıda olduğundan emin olmak gerekir. Bu nedenle, eğitim özelliklerinin boyutunun etiket boyutu ile eşleştiğinden emin olmak için bu assert ifadesi kullanılır."
   ]
  },
  {
   "cell_type": "code",
   "execution_count": null,
   "metadata": {},
   "outputs": [],
   "source": [
    "assert train_features_sift.shape[0] == train_labels_sift.shape[0]"
   ]
  },
  {
   "attachments": {},
   "cell_type": "markdown",
   "metadata": {},
   "source": [
    "Bu kod parçası, görüntülerden SIFT (Scale-Invariant Feature Transform) özniteliklerini çıkarır. SIFT, görüntülerdeki özellikleri algılamak ve eşleştirmek için kullanılan bir özellik tanımlama algoritmasıdır. İlk olarak, test_images listesindeki her bir görüntü, gri ölçeklendirme yapılarak gri tonlamalı hale getirilir. Daha sonra, SIFT algoritması bu gri ölçeklendirilmiş görüntüler üzerinde uygulanır. SIFT, görüntülerin belli bir boyut skalasına göre ölçeklendirilmiş noktalarını (keypoints) belirler ve her bir nokta için bir öznitelik vektörü (descriptor) hesaplar. "
   ]
  },
  {
   "attachments": {},
   "cell_type": "markdown",
   "metadata": {},
   "source": [
    "Bu öznitelik vektörleri test_features_sift listesine eklerken, test_labels_sift liste de eğitim verisi için görüntülerin sınıf etiketlerini tutar. Bu işlem sonucunda, test_features_sift adlı liste, her bir görüntü için çıkarılmış SIFT özniteliklerini içeren birer numpy dizisi olarak oluşturulur."
   ]
  },
  {
   "cell_type": "code",
   "execution_count": 9,
   "metadata": {},
   "outputs": [
    {
     "name": "stderr",
     "output_type": "stream",
     "text": [
      "[ WARN:0@120.039] global shadow_sift.hpp:15 SIFT_create DEPRECATED: cv.xfeatures2d.SIFT_create() is deprecated due SIFT tranfer to the main repository. https://github.com/opencv/opencv/issues/16736\n"
     ]
    }
   ],
   "source": [
    "test_features_sift = []\n",
    "test_labels_sift = []  \n",
    "for i, image in enumerate(test_images):\n",
    "    gray = cv2.cvtColor(image, cv2.COLOR_RGB2GRAY)\n",
    "    kp, des = sift.detectAndCompute(gray, None)\n",
    "    if des is not None:\n",
    "        test_features_sift.append(des)\n",
    "        test_labels_sift += [train_labels[i]] * des.shape[0] \n",
    "test_features_sift = np.concatenate(test_features_sift, axis=0)\n",
    "test_labels_sift = np.array(test_labels_sift)"
   ]
  },
  {
   "attachments": {},
   "cell_type": "markdown",
   "metadata": {},
   "source": [
    "Bu kod parçası, SIFT özellik çıkarıcısını kullanarak görüntülerden özelliklerin çıkarılması ve ardından çıkarılan özelliklerin Random Forest algoritması kullanılarak sınıflandırılması ve performans ölçütlerinin hesaplanması işlemlerini içerir.\n",
    "İlk önce, Random Forest sınıflandırıcısının 100 decision tree kullanarak ve max ağaç derinliği 10 olacak şekilde oluşturulması için parametreler ayarlanır. \n",
    "Ardından eğitim gerçekleştirilir."
   ]
  },
  {
   "cell_type": "code",
   "execution_count": 17,
   "metadata": {},
   "outputs": [
    {
     "name": "stdout",
     "output_type": "stream",
     "text": [
      "Accuracy: 0.1358281306836319\n",
      "Precision: 0.08762575992503979\n",
      "Recall: 0.08326300853349539\n",
      "F1 score: 0.03987175873649513\n"
     ]
    }
   ],
   "source": [
    "rfc = RandomForestClassifier(n_estimators=100, max_depth=10, random_state=42)\n",
    "rfc.fit(train_features_sift, train_labels_sift)\n",
    "y_pred_sift = rfc.predict(test_features_sift)\n",
    "accuracy_sift = accuracy_score(test_labels_sift, y_pred_sift)\n",
    "precision_sift = precision_score(test_labels_sift, y_pred_sift, average='macro')\n",
    "recall_sift = recall_score(test_labels_sift, y_pred_sift, average='macro')\n",
    "f1_sift = f1_score(test_labels_sift, y_pred_sift, average='macro')\n",
    "print(\"Accuracy:\", accuracy_sift)\n",
    "print(\"Precision:\", precision_sift)\n",
    "print(\"Recall:\", recall_sift)\n",
    "print(\"F1 score:\", f1_sift)"
   ]
  },
  {
   "attachments": {},
   "cell_type": "markdown",
   "metadata": {},
   "source": [
    "Bu kod parçası, Random Forest algoritması kullanarak görüntü sınıflandırma işlemi gerçekleştirir.\n",
    "\n",
    "İlk önce RandomForestClassifier sınıfı kullanılarak bir sınıflandırıcı oluşturulur. Bu sınıf için n_estimators parametresi, RFC'nin toplam ağaç sayısını belirler. max_depth parametresi ise RFC'nin her bir ağacının max derinliğini belirler. random_state parametresi ise RFC'nin aynı sonuçları üretmesi için kullanılır."
   ]
  },
  {
   "cell_type": "code",
   "execution_count": 11,
   "metadata": {},
   "outputs": [
    {
     "name": "stdout",
     "output_type": "stream",
     "text": [
      "Accuracy: 0.7984886649874056\n",
      "Precision: 0.931395247602568\n",
      "Recall: 0.7808001206457221\n",
      "F1 score: 0.8324307268018032\n"
     ]
    }
   ],
   "source": [
    "clf = RandomForestClassifier(n_estimators=200, max_depth=40, random_state=42)\n",
    "clf.fit(train_features, train_labels)\n",
    "y_pred = clf.predict(test_features)\n",
    "accuracy = accuracy_score(test_labels, y_pred)\n",
    "precision = precision_score(test_labels, y_pred, average='macro')\n",
    "recall = recall_score(test_labels, y_pred, average='macro')\n",
    "f1 = f1_score(test_labels, y_pred, average='macro')\n",
    "print(\"Accuracy:\", accuracy)\n",
    "print(\"Precision:\", precision)\n",
    "print(\"Recall:\", recall)\n",
    "print(\"F1 score:\", f1)"
   ]
  },
  {
   "attachments": {},
   "cell_type": "markdown",
   "metadata": {},
   "source": [
    "Random Forest algoritması SIFT ve HOG özellikleri için test edildi ve gerekli skorlar elde edildi "
   ]
  },
  {
   "cell_type": "code",
   "execution_count": null,
   "metadata": {},
   "outputs": [],
   "source": [
    "sift_scores = [accuracy_sift, precision_sift, recall_sift, f1_sift]\n",
    "sift_labels = ['Accuracy', 'Precision', 'Recall', 'F1 Score']\n",
    "hog_scores = [accuracy, precision, recall, f1]\n",
    "hog_labels = ['Accuracy', 'Precision', 'Recall', 'F1 Score']"
   ]
  },
  {
   "attachments": {},
   "cell_type": "markdown",
   "metadata": {},
   "source": [
    "SIFT algoritması görüntülerdeki benzersiz özellikleri tanımlamak için kullanılır ve genellikle nesne tanıma ve eşleştirme gibi görevlerde iyi performans gösterir. Ancak, gri ölçeklendirme kullanılarak işlenir, bu nedenle renk bilgisi kaybedilir ve bu bazı durumlarda performansı etkileyebilir.\n",
    "\n",
    "HOG algoritması görüntülerdeki kenarları ve diğer özellikleri tanımlamak için kullanılır ve genellikle nesne tespiti ve insan tanıma gibi görevlerde iyi performans gösterir. Renk bilgisini kaybetmez, bu da onun bazı durumlarda daha iyi performans göstermesini sağlayabilir.\n",
    "\n",
    "Görsel olarak karşılaştırıldığında, HOG'un SIFT'ten daha yüksek skorlar verdiği görülür, bu da HOG'un verilen veri kümesinde daha iyi bir özellik çıkarım yöntemi olduğunu gösterir."
   ]
  },
  {
   "cell_type": "code",
   "execution_count": 12,
   "metadata": {},
   "outputs": [
    {
     "data": {
      "image/png": "[encoded data removed]",
      "text/plain": [
       "<Figure size 720x360 with 2 Axes>"
      ]
     },
     "metadata": {
      "needs_background": "light"
     },
     "output_type": "display_data"
    }
   ],
   "source": [
    "fig, (ax1, ax2) = plt.subplots(1, 2, figsize=(10,5))\n",
    "ax1.bar(sift_labels, sift_scores, color=['orange', 'purple', 'blue', 'green'])\n",
    "ax1.set_title('SIFT Scores')\n",
    "ax1.set_ylim(0, 1)\n",
    "ax2.bar(hog_labels, hog_scores, color=['orange', 'purple', 'blue', 'green'])\n",
    "ax2.set_title('HOG Scores')\n",
    "ax2.set_ylim(0, 1)\n",
    "plt.show()\n"
   ]
  },
  {
   "attachments": {},
   "cell_type": "markdown",
   "metadata": {},
   "source": [
    "Bu kod K-Nearest Neighbors classification algoritmasını kullanarak test verilerinin tahminlerini yapar ve sonuçları hesaplar.\n",
    "\n",
    "İlk olarak, KNeighborsClassifier sınıfından bir nesne oluşturulur ve n_neighbors parametresi 10 olarak ayarlanır. Ardından, fit() yöntemi kullanılarak eğitim özellikleri ve etiketleri verileri KNN modeline uygun hale getirilir."
   ]
  },
  {
   "cell_type": "code",
   "execution_count": 13,
   "metadata": {},
   "outputs": [
    {
     "name": "stdout",
     "output_type": "stream",
     "text": [
      "\n",
      "K-Nearest Neighbors Classifier:\n",
      "Accuracy: 0.7925618610164469\n",
      "Precision: 0.8518845551833111\n",
      "Recall: 0.7876839136001624\n",
      "F1 score: 0.8098798108806334\n"
     ]
    }
   ],
   "source": [
    "knn = KNeighborsClassifier(n_neighbors=10)\n",
    "knn.fit(train_features, train_labels)\n",
    "y_pred_knn = knn.predict(test_features)\n",
    "accuracy_knn = accuracy_score(test_labels, y_pred_knn)\n",
    "precision_knn = precision_score(test_labels, y_pred_knn, average='macro')\n",
    "recall_knn = recall_score(test_labels, y_pred_knn, average='macro')\n",
    "f1_knn = f1_score(test_labels, y_pred_knn, average='macro')\n",
    "print(\"\\nK-Nearest Neighbors Classifier:\")\n",
    "print(\"Accuracy:\", accuracy_knn)\n",
    "print(\"Precision:\", precision_knn)\n",
    "print(\"Recall:\", recall_knn)\n",
    "print(\"F1 score:\", f1_knn)"
   ]
  },
  {
   "attachments": {},
   "cell_type": "markdown",
   "metadata": {},
   "source": [
    "Bu kod bloğunda bir SVM modeli eğitilir ve test veri kümesinde tahminler yapılır. Daha sonra, modelin performansı değerlendirilir.\n",
    "\n",
    "İlk olarak, bir SVC sınıfı nesnesi oluşturulur ve lineer çekirdek kullanılarak eğitilir. Ardından, eğitilmiş model test özellikleri üzerinde tahminler yapar ve sonuçları predictions değişkeninde saklar."
   ]
  },
  {
   "cell_type": "code",
   "execution_count": 14,
   "metadata": {},
   "outputs": [
    {
     "name": "stdout",
     "output_type": "stream",
     "text": [
      "Accuracy: 0.7807082530745295\n",
      "Precision: 0.8187667436658405\n",
      "Recall: 0.7765917264548134\n",
      "F1 score: 0.7938800857374727\n"
     ]
    }
   ],
   "source": [
    "svm_model = SVC(kernel='linear')\n",
    "svm_model.fit(train_features, train_labels)\n",
    "predictions = svm_model.predict(test_features)\n",
    "accuracy_svm = accuracy_score(test_labels, predictions)\n",
    "precision_svm = precision_score(test_labels, predictions, average='macro')\n",
    "recall_svm = recall_score(test_labels, predictions, average='macro')\n",
    "f1_svm = f1_score(test_labels, predictions, average='macro')\n",
    "print(\"Accuracy:\", accuracy_svm)\n",
    "print(\"Precision:\", precision_svm)\n",
    "print(\"Recall:\", recall_svm)\n",
    "print(\"F1 score:\", f1_svm)"
   ]
  },
  {
   "cell_type": "code",
   "execution_count": 15,
   "metadata": {},
   "outputs": [
    {
     "data": {
      "image/png": "[encoded data removed]",
      "text/plain": [
       "<Figure size 576x864 with 4 Axes>"
      ]
     },
     "metadata": {
      "needs_background": "light"
     },
     "output_type": "display_data"
    }
   ],
   "source": [
    "import matplotlib.pyplot as plt\n",
    "values = [[accuracy, precision, recall, f1], \n",
    "          [accuracy_knn, precision_knn, recall_knn, f1_knn], \n",
    "          [accuracy_svm, precision_svm, recall_svm, f1_svm]]\n",
    "classifiers = ['Random Forest', 'KNN', 'SVM']\n",
    "metrics = ['Accuracy', 'Precision', 'Recall', 'F1-score']\n",
    "fig, axs = plt.subplots(nrows=len(metrics), figsize=(8, 12))\n",
    "for i in range(len(metrics)):\n",
    "    for j in range(len(classifiers)):\n",
    "        axs[i].bar(classifiers[j], values[j][i])\n",
    "        axs[i].set_ylabel(metrics[i])\n",
    "        axs[i].set_ylim(0, 1)\n",
    "fig.suptitle('Performance Metrics for Different Classifiers')\n",
    "plt.show()\n"
   ]
  },
  {
   "attachments": {},
   "cell_type": "markdown",
   "metadata": {},
   "source": [
    "Bu meyve sınıflandırma projesi için Random Forest, K-Nearest Neighbors ve SVM gibi sınıflandırma modelleri karşılaştırıldığında, en iyi sonuçları Random Forest sağladığı görülebilir. Bu, proje için kullanılan özellik vektörlerinin yoğunluğuna ve dağılımına dayandığı doğası nedeniyle ve Random Forest'un bu özellikleri yakalamak için daha uygun bir modele sahip olmasından kaynaklanmaktadır. Ayrıca, Random Forest veri setindeki gürültüye daha dirençlidir ve genellikle daha iyi performans gösterir. K-Nearest Neighbors ve SVM modelleri de iyi sonuçlar sağlamış olsa da, bu modellerin özellik vektörlerinin boyutuna daha duyarlı olduğu gözlemlenmiştir. Özellikle yüksek boyutlu özellik vektörleriyle SVM daha iyi performans gösterirken, K-Nearest Neighbors daha düşük boyutlu özellik vektörleriyle daha iyi performans gösterir."
   ]
  },
  {
   "cell_type": "code",
   "execution_count": 19,
   "metadata": {},
   "outputs": [
    {
     "name": "stdout",
     "output_type": "stream",
     "text": [
      "              precision    recall  f1-score   support\n",
      "\n",
      "       Apple       0.54      0.79      0.64      1000\n",
      "        Pear       0.76      0.74      0.75       590\n",
      " Pomegranate       0.86      0.76      0.81       458\n",
      "        Kiwi       0.92      0.87      0.89       822\n",
      "        Plum       0.98      1.00      0.99       449\n",
      "   Carambola       0.79      0.74      0.76       387\n",
      "   muskmelon       0.85      0.75      0.80       444\n",
      "      Banana       0.81      0.75      0.78       599\n",
      "      Tomato       0.76      0.69      0.72       430\n",
      "   Persimmon       0.86      0.76      0.81       462\n",
      "      Orange       0.77      0.71      0.74       577\n",
      "       Peach       0.92      0.77      0.84       531\n",
      "\n",
      "    accuracy                           0.78      6749\n",
      "   macro avg       0.82      0.78      0.79      6749\n",
      "weighted avg       0.80      0.78      0.79      6749\n",
      "\n"
     ]
    }
   ],
   "source": [
    "print(classification_report(test_labels, predictions, target_names=fruit_classes))"
   ]
  }
 ],
 "metadata": {
  "kernelspec": {
   "display_name": "base",
   "language": "python",
   "name": "python3"
  },
  "language_info": {
   "codemirror_mode": {
    "name": "ipython",
    "version": 3
   },
   "file_extension": ".py",
   "mimetype": "text/x-python",
   "name": "python",
   "nbconvert_exporter": "python",
   "pygments_lexer": "ipython3",
   "version": "3.9.12"
  },
  "orig_nbformat": 4
 },
 "nbformat": 4,
 "nbformat_minor": 2
}
