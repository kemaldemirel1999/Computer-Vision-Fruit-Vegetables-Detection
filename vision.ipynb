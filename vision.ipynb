{
 "cells": [
  {
   "cell_type": "code",
   "execution_count": 10,
   "metadata": {},
   "outputs": [
    {
     "ename": "ModuleNotFoundError",
     "evalue": "No module named 'sklearn'",
     "output_type": "error",
     "traceback": [
      "\u001b[0;31m---------------------------------------------------------------------------\u001b[0m",
      "\u001b[0;31mModuleNotFoundError\u001b[0m                       Traceback (most recent call last)",
      "Cell \u001b[0;32mIn[10], line 1\u001b[0m\n\u001b[0;32m----> 1\u001b[0m \u001b[38;5;28;01mfrom\u001b[39;00m \u001b[38;5;21;01msklearn\u001b[39;00m\u001b[38;5;21;01m.\u001b[39;00m\u001b[38;5;21;01mensemble\u001b[39;00m \u001b[38;5;28;01mimport\u001b[39;00m RandomForestClassifier\n\u001b[1;32m      2\u001b[0m \u001b[38;5;28;01mfrom\u001b[39;00m \u001b[38;5;21;01msklearn\u001b[39;00m\u001b[38;5;21;01m.\u001b[39;00m\u001b[38;5;21;01mmetrics\u001b[39;00m \u001b[38;5;28;01mimport\u001b[39;00m accuracy_score, precision_score, recall_score, f1_score\n\u001b[1;32m      3\u001b[0m \u001b[38;5;28;01mimport\u001b[39;00m \u001b[38;5;21;01mos\u001b[39;00m\n",
      "\u001b[0;31mModuleNotFoundError\u001b[0m: No module named 'sklearn'"
     ]
    }
   ],
   "source": [
    "from sklearn.ensemble import RandomForestClassifier\n",
    "from sklearn.metrics import accuracy_score, precision_score, recall_score, f1_score\n",
    "import os\n",
    "import cv2\n",
    "import numpy as np\n",
    "from sklearn.model_selection import train_test_split\n",
    "from sklearn.svm import SVC\n",
    "from sklearn.metrics import classification_report\n",
    "from skimage.feature import hog\n",
    "from sklearn.neighbors import KNeighborsClassifier"
   ]
  },
  {
   "cell_type": "code",
   "execution_count": null,
   "metadata": {},
   "outputs": [],
   "source": [
    "# Define the path to the fruit images dataset\n",
    "dataset_path = os.getcwd()+ \"/Dataset/train\"\n",
    "# Define the list of fruit classes\n",
    "fruit_names = os.listdir(dataset_path)\n",
    "# MacOS cihazlardaki .DS_Store dosyası ignore edilir.\n",
    "fruit_classes = [class_name for class_name in fruit_names if class_name != \".DS_Store\"]"
   ]
  },
  {
   "cell_type": "code",
   "execution_count": null,
   "metadata": {},
   "outputs": [
    {
     "name": "stdout",
     "output_type": "stream",
     "text": [
      "black berry\n",
      "bearberry\n",
      "apricot\n",
      "banana\n",
      "orange\n"
     ]
    }
   ],
   "source": [
    "# Load the fruit images and labels\n",
    "images = []\n",
    "labels = []\n",
    "for fruit_class in fruit_classes:\n",
    "    fruit_class_path = os.path.join(dataset_path, fruit_class)\n",
    "    print(fruit_class)\n",
    "    for image_file in os.listdir(fruit_class_path):\n",
    "        image_path = os.path.join(fruit_class_path, image_file)\n",
    "        image = cv2.imread(image_path)\n",
    "\n",
    "        images.append(image)\n",
    "        labels.append(fruit_classes.index(fruit_class))\n",
    "\n"
   ]
  },
  {
   "cell_type": "code",
   "execution_count": null,
   "metadata": {},
   "outputs": [],
   "source": [
    "def preprocess(images):\n",
    "    final_images = []\n",
    "    for image in images:\n",
    "        image = cv2.cvtColor(image, cv2.COLOR_BGR2RGB)\n",
    "        image = cv2.resize(image, (64, 64))\n",
    "        final_images.append(image)\n",
    "    return final_images"
   ]
  },
  {
   "cell_type": "code",
   "execution_count": null,
   "metadata": {},
   "outputs": [],
   "source": [
    "images = preprocess(images)"
   ]
  },
  {
   "cell_type": "code",
   "execution_count": null,
   "metadata": {},
   "outputs": [],
   "source": [
    "# Convert the image and label lists to NumPy arrays\n",
    "images = np.array(images)\n",
    "labels = np.array(labels)"
   ]
  },
  {
   "cell_type": "code",
   "execution_count": null,
   "metadata": {},
   "outputs": [],
   "source": [
    "# Split the dataset into training and testing sets\n",
    "train_images, test_images, train_labels, test_labels = train_test_split(images, labels, test_size=0.2)"
   ]
  },
  {
   "cell_type": "markdown",
   "metadata": {},
   "source": [
    "HOG feature extraction is an important step in fruit classification project because it allows us to extract relevant information from the images that can be used for classification. HOG features describe the shape and texture of an object based on the distribution of gradient orientations in an image. By extracting HOG features from fruit images, we can create a representation of the image that captures the important visual characteristics of the fruit. "
   ]
  },
  {
   "cell_type": "code",
   "execution_count": null,
   "metadata": {},
   "outputs": [
    {
     "name": "stderr",
     "output_type": "stream",
     "text": [
      "/var/folders/ll/m4x7jzhn1sx67kdws1tf0zg80000gn/T/ipykernel_41100/1815871730.py:6: FutureWarning: `multichannel` is a deprecated argument name for `hog`. It will be removed in version 1.0. Please use `channel_axis` instead.\n",
      "  hog_feature = hog(image, orientations=8, pixels_per_cell=(8, 8), cells_per_block=(2, 2), feature_vector=True, multichannel=True, channel_axis=-1)\n",
      "/var/folders/ll/m4x7jzhn1sx67kdws1tf0zg80000gn/T/ipykernel_41100/1815871730.py:13: FutureWarning: `multichannel` is a deprecated argument name for `hog`. It will be removed in version 1.0. Please use `channel_axis` instead.\n",
      "  hog_feature = hog(image, orientations=8, pixels_per_cell=(8, 8), cells_per_block=(2, 2), feature_vector=True, multichannel=True, channel_axis=-1)\n"
     ]
    }
   ],
   "source": [
    "# Extract HOG features from the training set\n",
    "\n",
    "hog_features = []\n",
    "i = 0\n",
    "for image in train_images:\n",
    "    hog_feature = hog(image, orientations=8, pixels_per_cell=(8, 8), cells_per_block=(2, 2), feature_vector=True, multichannel=True, channel_axis=-1)\n",
    "    hog_features.append(hog_feature)\n",
    "    i = i + 1\n",
    "train_features = np.array(hog_features)\n",
    "i = 0\n",
    "hog_features = []\n",
    "for image in test_images:\n",
    "    hog_feature = hog(image, orientations=8, pixels_per_cell=(8, 8), cells_per_block=(2, 2), feature_vector=True, multichannel=True, channel_axis=-1)\n",
    "    hog_features.append(hog_feature)\n",
    "    i = i + 1\n",
    "test_features = np.array(hog_features)\n"
   ]
  },
  {
   "cell_type": "markdown",
   "metadata": {},
   "source": [
    "SIFT stands for Scale Invariant Feature Transform, it is a feature extraction method where image content is transformed into local feature coordinates that are invariant to translation, scale and other image transformations."
   ]
  },
  {
   "cell_type": "code",
   "execution_count": null,
   "metadata": {},
   "outputs": [],
   "source": [
    "sift = cv2.xfeatures2d.SIFT_create()\n",
    "\n",
    "train_features_sift = []\n",
    "train_labels_sift = []  # etiketleri takip etmek için yeni bir liste\n",
    "for i, image in enumerate(train_images):\n",
    "    # Gri ölçeklendirme uygulanıyor çünkü sift renk değerlerine duyarsızdır\n",
    "    gray = cv2.cvtColor(image, cv2.COLOR_RGB2GRAY)\n",
    "    # Keypoint'ler ve descriptor'lar çıkarılıyor\n",
    "    kp, des = sift.detectAndCompute(gray, None)\n",
    "    # Eğer descriptor'lar varsa, train_features_sift listesine eklenirken, train_labels_sift listesine etiketleri ekleniyor\n",
    "    if des is not None:\n",
    "        train_features_sift.append(des)\n",
    "        train_labels_sift += [train_labels[i]] * des.shape[0]  \n",
    "        \n",
    "\n",
    "train_features_sift = np.concatenate(train_features_sift, axis=0)\n",
    "\n",
    "train_labels_sift = np.array(train_labels_sift)\n",
    "\n",
    "\n",
    "assert train_features_sift.shape[0] == train_labels_sift.shape[0]\n",
    "\n",
    "test_features_sift = []\n",
    "test_labels_sift = []  \n",
    "for i, image in enumerate(test_images):\n",
    "    gray = cv2.cvtColor(image, cv2.COLOR_RGB2GRAY)\n",
    "    kp, des = sift.detectAndCompute(gray, None)\n",
    "    if des is not None:\n",
    "        test_features_sift.append(des)\n",
    "        test_labels_sift += [train_labels[i]] * des.shape[0] \n",
    "test_features_sift = np.concatenate(test_features_sift, axis=0)\n",
    "\n",
    "test_labels_sift = np.array(test_labels_sift)\n"
   ]
  },
  {
   "cell_type": "code",
   "execution_count": null,
   "metadata": {},
   "outputs": [],
   "source": [
    "rfc = RandomForestClassifier(n_estimators=200, max_depth=40, random_state=42)\n",
    "rfc.fit(train_features_sift, train_labels_sift)\n",
    "y_pred_sift = rfc.predict(test_features_sift)\n",
    "accuracy_sift = accuracy_score(test_labels_sift, y_pred_sift)\n",
    "precision_sift = precision_score(test_labels_sift, y_pred_sift, average='macro')\n",
    "recall_sift = recall_score(test_labels_sift, y_pred_sift, average='macro')\n",
    "f1_sift = f1_score(test_labels_sift, y_pred_sift, average='macro')\n",
    "print(\"Accuracy:\", accuracy_sift)\n",
    "print(\"Precision:\", precision_sift)\n",
    "print(\"Recall:\", recall_sift)\n",
    "print(\"F1 score:\", f1_sift)"
   ]
  },
  {
   "cell_type": "code",
   "execution_count": null,
   "metadata": {},
   "outputs": [
    {
     "name": "stdout",
     "output_type": "stream",
     "text": [
      "Accuracy: 0.6339370829361296\n",
      "Precision: 0.6505513879178143\n",
      "Recall: 0.621247867142604\n",
      "F1 score: 0.627141308129835\n"
     ]
    }
   ],
   "source": [
    "clf = RandomForestClassifier(n_estimators=200, max_depth=40, random_state=42)\n",
    "clf.fit(train_features, train_labels)\n",
    "y_pred = clf.predict(test_features)\n",
    "accuracy = accuracy_score(test_labels, y_pred)\n",
    "precision = precision_score(test_labels, y_pred, average='macro')\n",
    "recall = recall_score(test_labels, y_pred, average='macro')\n",
    "f1 = f1_score(test_labels, y_pred, average='macro')\n",
    "print(\"Accuracy:\", accuracy)\n",
    "print(\"Precision:\", precision)\n",
    "print(\"Recall:\", recall)\n",
    "print(\"F1 score:\", f1)"
   ]
  },
  {
   "cell_type": "code",
   "execution_count": null,
   "metadata": {},
   "outputs": [
    {
     "data": {
      "image/png": "[encoded data removed]",
      "text/plain": [
       "<Figure size 1000x500 with 2 Axes>"
      ]
     },
     "metadata": {},
     "output_type": "display_data"
    }
   ],
   "source": [
    "import matplotlib.pyplot as plt\n",
    "\n",
    "# SIFT Scores\n",
    "sift_scores = [accuracy_sift, precision_sift, recall_sift, f1_sift]\n",
    "sift_labels = ['Accuracy', 'Precision', 'Recall', 'F1 Score']\n",
    "# HOG Scores\n",
    "hog_scores = [accuracy, precision, recall, f1]\n",
    "hog_labels = ['Accuracy', 'Precision', 'Recall', 'F1 Score']\n",
    "\n",
    "# Create subplots for SIFT and HOG\n",
    "fig, (ax1, ax2) = plt.subplots(1, 2, figsize=(10,5))\n",
    "\n",
    "# Plot SIFT scores\n",
    "ax1.bar(sift_labels, sift_scores, color=['orange', 'purple', 'blue', 'green'])\n",
    "ax1.set_title('SIFT Scores')\n",
    "ax1.set_ylim(0, 1)\n",
    "\n",
    "# Plot HOG scores\n",
    "ax2.bar(hog_labels, hog_scores, color=['orange', 'purple', 'blue', 'green'])\n",
    "ax2.set_title('HOG Scores')\n",
    "ax2.set_ylim(0, 1)\n",
    "\n",
    "plt.show()\n"
   ]
  },
  {
   "cell_type": "markdown",
   "metadata": {},
   "source": [
    "The HOG filter divides an image into small parts and calculates the histogram of gradient directions for each part. These histograms are used to capture the distribution of edges and directions in an image. Therefore, the HOG filter is quite effective in defining the shapes and edges of fruits. On the other hand, the SIFT filter is used to detect feature points by scaling down an image at different scales, and it is less effective than the HOG filter in defining edges and shapes because some details are lost or incorrect matching may occur during the scaling of feature points. For these reasons, the HOG filter has yielded better results in visual recognition problems such as fruit classification."
   ]
  },
  {
   "cell_type": "code",
   "execution_count": null,
   "metadata": {},
   "outputs": [
    {
     "name": "stdout",
     "output_type": "stream",
     "text": [
      "\n",
      "K-Nearest Neighbors Classifier:\n",
      "Accuracy: 0.4223069590085796\n",
      "Precision: 0.6282034581672153\n",
      "Recall: 0.41714061922482976\n",
      "F1 score: 0.4022461013181922\n"
     ]
    }
   ],
   "source": [
    "# K-Nearest Neighbors Classifier\n",
    "knn = KNeighborsClassifier(n_neighbors=10)\n",
    "knn.fit(train_features, train_labels)\n",
    "y_pred_knn = knn.predict(test_features)\n",
    "accuracy_knn = accuracy_score(test_labels, y_pred_knn)\n",
    "precision_knn = precision_score(test_labels, y_pred_knn, average='macro')\n",
    "recall_knn = recall_score(test_labels, y_pred_knn, average='macro')\n",
    "f1_knn = f1_score(test_labels, y_pred_knn, average='macro')\n",
    "print(\"\\nK-Nearest Neighbors Classifier:\")\n",
    "print(\"Accuracy:\", accuracy_knn)\n",
    "print(\"Precision:\", precision_knn)\n",
    "print(\"Recall:\", recall_knn)\n",
    "print(\"F1 score:\", f1_knn)"
   ]
  },
  {
   "cell_type": "code",
   "execution_count": null,
   "metadata": {},
   "outputs": [
    {
     "name": "stdout",
     "output_type": "stream",
     "text": [
      "Accuracy: 0.5548141086749285\n",
      "Precision: 0.550912626577813\n",
      "Recall: 0.5468382825751246\n",
      "F1 score: 0.5472232598855489\n"
     ]
    }
   ],
   "source": [
    "# Train the SVM model\n",
    "svm_model = SVC(kernel='linear')\n",
    "svm_model.fit(train_features, train_labels)\n",
    "# Make predictions on the test set\n",
    "predictions = svm_model.predict(test_features)\n",
    "# Evaluate the model performance\n",
    "accuracy_svm = accuracy_score(test_labels, predictions)\n",
    "precision_svm = precision_score(test_labels, predictions, average='macro')\n",
    "recall_svm = recall_score(test_labels, predictions, average='macro')\n",
    "f1_svm = f1_score(test_labels, predictions, average='macro')\n",
    "print(\"Accuracy:\", accuracy_svm)\n",
    "print(\"Precision:\", precision_svm)\n",
    "print(\"Recall:\", recall_svm)\n",
    "print(\"F1 score:\", f1_svm)"
   ]
  },
  {
   "cell_type": "code",
   "execution_count": null,
   "metadata": {},
   "outputs": [
    {
     "data": {
      "image/png": "[encoded data removed]",
      "text/plain": [
       "<Figure size 800x1200 with 4 Axes>"
      ]
     },
     "metadata": {},
     "output_type": "display_data"
    }
   ],
   "source": [
    "import matplotlib.pyplot as plt\n",
    "\n",
    "# Accuracy, precision, recall and f1-score values for different classifiers\n",
    "values = [[accuracy, precision, recall, f1], \n",
    "          [accuracy_knn, precision_knn, recall_knn, f1_knn], \n",
    "          [accuracy_svm, precision_svm, recall_svm, f1_svm]]\n",
    "\n",
    "# Labels for classifiers and metrics\n",
    "classifiers = ['Random Forest', 'KNN', 'SVM']\n",
    "metrics = ['Accuracy', 'Precision', 'Recall', 'F1-score']\n",
    "\n",
    "# Create subplots for each metric\n",
    "fig, axs = plt.subplots(nrows=len(metrics), figsize=(8, 12))\n",
    "\n",
    "# Plot each metric for each classifier\n",
    "for i in range(len(metrics)):\n",
    "    for j in range(len(classifiers)):\n",
    "        axs[i].bar(classifiers[j], values[j][i])\n",
    "        axs[i].set_ylabel(metrics[i])\n",
    "        axs[i].set_ylim(0, 1)\n",
    "\n",
    "# Set title for the figure\n",
    "fig.suptitle('Performance Metrics for Different Classifiers')\n",
    "\n",
    "# Show the figure\n",
    "plt.show()\n"
   ]
  },
  {
   "cell_type": "markdown",
   "metadata": {},
   "source": [
    "When comparing classification models such as Random Forest, K-Nearest Neighbors, and SVM for this fruit classification project, it can be seen that Random Forest provides the best results. This is due to the nature of the feature vectors used in the project, which are based on the density and distribution of features, and Random Forest has a more suitable model to capture these features. Additionally, Random Forest is more resilient to noise in the dataset and generally performs better. Although K-Nearest Neighbors and SVM models also provided good results, it was observed that these models are more sensitive to the dimensionality of the feature vectors. SVM, especially performs better with high-dimensional feature vectors, while K-Nearest Neighbors shows better performance with lower-dimensional feature vectors."
   ]
  },
  {
   "cell_type": "code",
   "execution_count": null,
   "metadata": {},
   "outputs": [
    {
     "name": "stdout",
     "output_type": "stream",
     "text": [
      "              precision    recall  f1-score   support\n",
      "\n",
      " black berry       0.57      0.58      0.58       231\n",
      "   bearberry       0.49      0.57      0.53       200\n",
      "     apricot       0.51      0.53      0.52       216\n",
      "      banana       0.71      0.60      0.65       250\n",
      "      orange       0.47      0.45      0.46       152\n",
      "\n",
      "    accuracy                           0.55      1049\n",
      "   macro avg       0.55      0.55      0.55      1049\n",
      "weighted avg       0.56      0.55      0.56      1049\n",
      "\n"
     ]
    }
   ],
   "source": [
    "print(classification_report(test_labels, predictions, target_names=fruit_classes))"
   ]
  },
  {
   "cell_type": "code",
   "execution_count": null,
   "metadata": {},
   "outputs": [],
   "source": [
    "import numpy as np\n",
    "import os\n",
    "from PIL import Image\n",
    "from sklearn.ensemble import RandomForestClassifier\n",
    "from sklearn.metrics import accuracy_score, precision_score, recall_score, f1_score\n",
    "from sklearn.model_selection import train_test_split\n",
    "from skimage.filters import gabor_kernel\n",
    "import scipy\n",
    "from scipy import signal\n",
    "\n",
    "# Define the path to the dataset\n",
    "data_dir = os.getcwd()+\"/Dataset/train/\"\n",
    "classes = os.listdir(data_dir)\n",
    "\n",
    "# Load the data\n",
    "X = []\n",
    "y = []\n",
    "for i, fruit in enumerate(classes):\n",
    "    fruit_dir = os.path.join(data_dir, fruit)\n",
    "    if fruit_dir.__contains__(\"DS\"):\n",
    "        print(fruit_dir)\n",
    "        i = i - 1\n",
    "        continue\n",
    "    for filename in os.listdir(fruit_dir):\n",
    "        img_path = os.path.join(fruit_dir, filename)\n",
    "        img = Image.open(img_path).convert('L') # Grayscale conversion\n",
    "        img = img.resize((32, 32), resample=Image.BILINEAR)\n",
    "        \n",
    "        # Extract Gabor filter features\n",
    "        filters = []\n",
    "        for theta in range(4):\n",
    "            theta = theta / 4. * np.pi\n",
    "            for sigma in (1, 3):\n",
    "                kernel = np.real(gabor_kernel(0.5 / np.pi, theta=theta, sigma_x=sigma, sigma_y=sigma))\n",
    "                filters.append(kernel)\n",
    "        \n",
    "        features = np.zeros((len(filters), 2), dtype=np.double)\n",
    "        for a, kernel in enumerate(filters):\n",
    "            filtered = np.real(signal.convolve2d(img, kernel, mode='same', boundary='symm'))\n",
    "            features[a, 0] = filtered.mean()\n",
    "            features[a, 1] = filtered.var()\n",
    "        X.append(features.flatten())\n",
    "        y.append(i)\n",
    "\n",
    "# Convert the data to the correct format for the classifier\n",
    "X = np.array(X)\n",
    "y = np.array(y)\n",
    "\n",
    "# Split the dataset into training and testing sets\n",
    "X_train, X_test, y_train, y_test = train_test_split(X, y, test_size=0.2, random_state=42)\n",
    "\n",
    "# Train a random forest classifier\n",
    "clf = RandomForestClassifier(n_estimators=150, max_depth=20, random_state=55)\n",
    "clf.fit(X_train, y_train)\n",
    "\n",
    "# Test the classifier on the testing set\n",
    "y_pred = clf.predict(X_test)\n",
    "\n",
    "# Calculate metrics\n",
    "accuracy = accuracy_score(y_test, y_pred)\n",
    "precision = precision_score(y_test, y_pred, average='macro')\n",
    "recall = recall_score(y_test, y_pred, average='macro')\n",
    "f1 = f1_score(y_test, y_pred, average='macro')\n",
    "\n",
    "# Print the metrics\n",
    "print(\"Accuracy:\", accuracy)\n",
    "print(\"Precision:\", precision)\n",
    "print(\"Recall:\", recall)\n"
   ]
  }
 ],
 "metadata": {
  "kernelspec": {
   "display_name": "base",
   "language": "python",
   "name": "python3"
  },
  "language_info": {
   "codemirror_mode": {
    "name": "ipython",
    "version": 3
   },
   "file_extension": ".py",
   "mimetype": "text/x-python",
   "name": "python",
   "nbconvert_exporter": "python",
   "pygments_lexer": "ipython3",
   "version": "3.10.9"
  },
  "orig_nbformat": 4
 },
 "nbformat": 4,
 "nbformat_minor": 2
}
